{
 "cells": [
  {
   "cell_type": "markdown",
   "id": "59157a89-05c2-47c1-b2da-6fd92186c19c",
   "metadata": {
    "tags": []
   },
   "source": [
    "# Data Science Tools and Ecosystem"
   ]
  },
  {
   "cell_type": "markdown",
   "id": "bcfae231-b12b-4b1d-a294-325000dca68d",
   "metadata": {},
   "source": [
    "In this notebook, Data Science Tools and Ecosystems are summarized."
   ]
  },
  {
   "cell_type": "markdown",
   "id": "11165d3e-12b4-4817-9fd8-d65696b9aeaa",
   "metadata": {},
   "source": [
    "Some of the popular languages that Data Scientists use are:\n",
    "1. Python\n",
    "2. R\n",
    "3. SQL\n",
    "4. Julia\n",
    "5. Scala"
   ]
  },
  {
   "cell_type": "markdown",
   "id": "7dd11e3d-bfd7-4fae-8e27-d0e8d324c774",
   "metadata": {},
   "source": [
    "Some of the commonly used libraries used by Data Scientists include:\n",
    "\n",
    "1. NumPy\n",
    "2. pandas\n",
    "3. scikit-learn"
   ]
  },
  {
   "cell_type": "markdown",
   "id": "7f267083-c31e-4930-83c0-d8a072115f4c",
   "metadata": {},
   "source": [
    "| Data Science Tools |\n",
    "|--------------------|\n",
    "| Jupyter Notebooks  |\n",
    "| RStudio            |\n",
    "| Visual Studio Code |"
   ]
  },
  {
   "cell_type": "markdown",
   "id": "aab9411e-815e-47ec-997d-b4449b697853",
   "metadata": {},
   "source": [
    "### Below are a few examples of evaluating arithmetic expressions in Python."
   ]
  },
  {
   "cell_type": "code",
   "execution_count": 5,
   "id": "80993552-f709-46fb-a766-0693b10b715f",
   "metadata": {
    "tags": []
   },
   "outputs": [
    {
     "data": {
      "text/plain": [
       "17"
      ]
     },
     "execution_count": 5,
     "metadata": {},
     "output_type": "execute_result"
    }
   ],
   "source": [
    "# This is a simple arithmetic expression to multiply then add integers.\n",
    "result = (3*4) + 5\n",
    "result\n"
   ]
  },
  {
   "cell_type": "code",
   "execution_count": 8,
   "id": "e26abd05-2ebf-40fe-98d5-da7c5105d534",
   "metadata": {
    "tags": []
   },
   "outputs": [
    {
     "data": {
      "text/plain": [
       "3.3333333333333335"
      ]
     },
     "execution_count": 8,
     "metadata": {},
     "output_type": "execute_result"
    }
   ],
   "source": [
    "# This will convert 200 minutes to hours by dividing by 60.\n",
    "time = (200/60)\n",
    "time"
   ]
  },
  {
   "cell_type": "markdown",
   "id": "b2c7f667-5450-4836-b8e8-99e73f391ac0",
   "metadata": {},
   "source": [
    "**Objectives**\n",
    "\n",
    "- Perform arithmetic operations in Python.\n",
    "- Create markdown cells with different formatting.\n",
    "- Create and run Python code cells in Jupyter Notebook.\n",
    "- Identify and list popular for Data Science."
   ]
  },
  {
   "cell_type": "markdown",
   "id": "c6c67428-ce0a-4058-80b1-ca05e00a9c18",
   "metadata": {},
   "source": [
    "## Author\n",
    "Ildefonso Arroyo Mercado"
   ]
  }
 ],
 "metadata": {
  "kernelspec": {
   "display_name": "Python",
   "language": "python",
   "name": "conda-env-python-py"
  },
  "language_info": {
   "codemirror_mode": {
    "name": "ipython",
    "version": 3
   },
   "file_extension": ".py",
   "mimetype": "text/x-python",
   "name": "python",
   "nbconvert_exporter": "python",
   "pygments_lexer": "ipython3",
   "version": "3.7.12"
  }
 },
 "nbformat": 4,
 "nbformat_minor": 5
}
